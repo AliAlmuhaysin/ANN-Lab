{
 "cells": [
  {
   "cell_type": "code",
   "execution_count": 58,
   "id": "0b1fa6ba-9d15-413a-acc8-18a637abafea",
   "metadata": {},
   "outputs": [],
   "source": [
    "import pandas as pd\n",
    "\n",
    "import tensorflow as tf\n",
    "physical_devices = tf.config.experimental.list_physical_devices('GPU')\n",
    "if len(physical_devices) > 0:\n",
    "    tf.config.experimental.set_memory_growth(physical_devices[0], True)"
   ]
  },
  {
   "cell_type": "code",
   "execution_count": 59,
   "id": "909c1deb-2012-453c-a1e8-5ab91f199ed9",
   "metadata": {},
   "outputs": [],
   "source": [
    "df = pd.read_csv('Bank_Customers.csv')\n",
    "\n",
    "y = df.iloc[:, -1].values\n",
    "X = df.iloc[:, 3:-1].values"
   ]
  },
  {
   "cell_type": "code",
   "execution_count": 60,
   "id": "f1ffd200-b5eb-42db-a9b6-b5738e9efa5a",
   "metadata": {},
   "outputs": [],
   "source": [
    "from sklearn.preprocessing import LabelEncoder, OneHotEncoder, StandardScaler\n",
    "from sklearn.compose import ColumnTransformer"
   ]
  },
  {
   "cell_type": "code",
   "execution_count": 61,
   "id": "7ce7f975-4ca1-4fb8-915d-14bca24f57f4",
   "metadata": {},
   "outputs": [
    {
     "name": "stderr",
     "output_type": "stream",
     "text": [
      "C:\\Users\\15-dc003\\anaconda3\\lib\\site-packages\\sklearn\\preprocessing\\_encoders.py:828: FutureWarning: `sparse` was renamed to `sparse_output` in version 1.2 and will be removed in 1.4. `sparse_output` is ignored unless you leave `sparse` to its default value.\n",
      "  warnings.warn(\n"
     ]
    }
   ],
   "source": [
    "ct = ColumnTransformer(\n",
    "     # Transformer name, Transformer Object and columns\n",
    "    [\n",
    "        (\"country\", OneHotEncoder(sparse=False), [1])\n",
    "     ],\n",
    "    # Any other columns are ignored\n",
    "    remainder=\"passthrough\"\n",
    "  )\n",
    "X[:, 2]= LabelEncoder().fit_transform(X[:, 2])\n",
    "X_tran = ct.fit_transform(X)\n",
    "\n",
    "\n",
    "X_tran = StandardScaler().fit_transform(X_tran)"
   ]
  },
  {
   "cell_type": "code",
   "execution_count": 62,
   "id": "bc6e2e6f-a8e2-4a0b-96b2-215cffd88593",
   "metadata": {},
   "outputs": [
    {
     "data": {
      "text/plain": [
       "(10000, 12)"
      ]
     },
     "execution_count": 62,
     "metadata": {},
     "output_type": "execute_result"
    }
   ],
   "source": [
    "X_tran.shape"
   ]
  },
  {
   "cell_type": "code",
   "execution_count": 63,
   "id": "5f2c7949-4cf2-400f-a4e9-1594208cd605",
   "metadata": {},
   "outputs": [],
   "source": [
    "from sklearn.model_selection import train_test_split\n",
    "X_train, X_test, y_train, y_test = train_test_split(X_tran, y, test_size=0.4, random_state=0)"
   ]
  },
  {
   "cell_type": "code",
   "execution_count": 75,
   "id": "60439d6b-5b4d-4800-aefa-95c8b8092dc1",
   "metadata": {},
   "outputs": [],
   "source": [
    "from keras.models import Sequential\n",
    "from keras.layers import Dense, Dropout\n",
    "from keras.losses import binary_crossentropy\n",
    "\n",
    "model = Sequential()\n",
    "\n",
    "model.add(Dense(16, activation='relu'))\n",
    "model.add(Dense(8, activation='relu'))\n",
    "model.add(Dense(4, activation='relu'))\n",
    "model.add(Dense(1, activation='sigmoid'))\n",
    "\n",
    "model.compile(loss='binary_crossentropy', metrics=['accuracy'], optimizer='adam')"
   ]
  },
  {
   "cell_type": "code",
   "execution_count": 77,
   "id": "044e57ec-0d97-42b3-8a6a-d27df2516214",
   "metadata": {},
   "outputs": [
    {
     "name": "stdout",
     "output_type": "stream",
     "text": [
      "Epoch 1/50\n",
      "60/60 [==============================] - 0s 3ms/step - loss: 0.3332 - accuracy: 0.8655\n",
      "Epoch 2/50\n",
      "60/60 [==============================] - 0s 3ms/step - loss: 0.3325 - accuracy: 0.8643\n",
      "Epoch 3/50\n",
      "60/60 [==============================] - 0s 5ms/step - loss: 0.3320 - accuracy: 0.8647\n",
      "Epoch 4/50\n",
      "60/60 [==============================] - 0s 4ms/step - loss: 0.3310 - accuracy: 0.8648\n",
      "Epoch 5/50\n",
      "60/60 [==============================] - 0s 3ms/step - loss: 0.3306 - accuracy: 0.8630\n",
      "Epoch 6/50\n",
      "60/60 [==============================] - 0s 3ms/step - loss: 0.3298 - accuracy: 0.8658\n",
      "Epoch 7/50\n",
      "60/60 [==============================] - 0s 5ms/step - loss: 0.3293 - accuracy: 0.8653\n",
      "Epoch 8/50\n",
      "60/60 [==============================] - 0s 3ms/step - loss: 0.3292 - accuracy: 0.8655\n",
      "Epoch 9/50\n",
      "60/60 [==============================] - 0s 3ms/step - loss: 0.3284 - accuracy: 0.8647\n",
      "Epoch 10/50\n",
      "60/60 [==============================] - 0s 3ms/step - loss: 0.3283 - accuracy: 0.8662\n",
      "Epoch 11/50\n",
      "60/60 [==============================] - 0s 3ms/step - loss: 0.3273 - accuracy: 0.8668\n",
      "Epoch 12/50\n",
      "60/60 [==============================] - 0s 3ms/step - loss: 0.3265 - accuracy: 0.8653\n",
      "Epoch 13/50\n",
      "60/60 [==============================] - 0s 3ms/step - loss: 0.3267 - accuracy: 0.8667\n",
      "Epoch 14/50\n",
      "60/60 [==============================] - 0s 3ms/step - loss: 0.3261 - accuracy: 0.8663\n",
      "Epoch 15/50\n",
      "60/60 [==============================] - 0s 3ms/step - loss: 0.3261 - accuracy: 0.8657\n",
      "Epoch 16/50\n",
      "60/60 [==============================] - 0s 5ms/step - loss: 0.3257 - accuracy: 0.8658\n",
      "Epoch 17/50\n",
      "60/60 [==============================] - 0s 5ms/step - loss: 0.3246 - accuracy: 0.8673\n",
      "Epoch 18/50\n",
      "60/60 [==============================] - 0s 5ms/step - loss: 0.3244 - accuracy: 0.8688\n",
      "Epoch 19/50\n",
      "60/60 [==============================] - 0s 5ms/step - loss: 0.3246 - accuracy: 0.8673\n",
      "Epoch 20/50\n",
      "60/60 [==============================] - 0s 5ms/step - loss: 0.3239 - accuracy: 0.8682\n",
      "Epoch 21/50\n",
      "60/60 [==============================] - 0s 5ms/step - loss: 0.3231 - accuracy: 0.8687\n",
      "Epoch 22/50\n",
      "60/60 [==============================] - 0s 5ms/step - loss: 0.3236 - accuracy: 0.8682\n",
      "Epoch 23/50\n",
      "60/60 [==============================] - 0s 6ms/step - loss: 0.3234 - accuracy: 0.8693\n",
      "Epoch 24/50\n",
      "60/60 [==============================] - 0s 6ms/step - loss: 0.3231 - accuracy: 0.8692\n",
      "Epoch 25/50\n",
      "60/60 [==============================] - 0s 5ms/step - loss: 0.3220 - accuracy: 0.8708\n",
      "Epoch 26/50\n",
      "60/60 [==============================] - 0s 5ms/step - loss: 0.3217 - accuracy: 0.8695\n",
      "Epoch 27/50\n",
      "60/60 [==============================] - 0s 5ms/step - loss: 0.3218 - accuracy: 0.8688\n",
      "Epoch 28/50\n",
      "60/60 [==============================] - 0s 5ms/step - loss: 0.3213 - accuracy: 0.8675\n",
      "Epoch 29/50\n",
      "60/60 [==============================] - 0s 5ms/step - loss: 0.3218 - accuracy: 0.8707\n",
      "Epoch 30/50\n",
      "60/60 [==============================] - 0s 5ms/step - loss: 0.3213 - accuracy: 0.8707\n",
      "Epoch 31/50\n",
      "60/60 [==============================] - 0s 5ms/step - loss: 0.3208 - accuracy: 0.8687\n",
      "Epoch 32/50\n",
      "60/60 [==============================] - 0s 5ms/step - loss: 0.3204 - accuracy: 0.8700\n",
      "Epoch 33/50\n",
      "60/60 [==============================] - 0s 5ms/step - loss: 0.3199 - accuracy: 0.8705\n",
      "Epoch 34/50\n",
      "60/60 [==============================] - 0s 5ms/step - loss: 0.3198 - accuracy: 0.8705\n",
      "Epoch 35/50\n",
      "60/60 [==============================] - 0s 5ms/step - loss: 0.3200 - accuracy: 0.8692\n",
      "Epoch 36/50\n",
      "60/60 [==============================] - 0s 5ms/step - loss: 0.3193 - accuracy: 0.8692\n",
      "Epoch 37/50\n",
      "60/60 [==============================] - 0s 5ms/step - loss: 0.3196 - accuracy: 0.8710\n",
      "Epoch 38/50\n",
      "60/60 [==============================] - 0s 5ms/step - loss: 0.3191 - accuracy: 0.8708\n",
      "Epoch 39/50\n",
      "60/60 [==============================] - 0s 5ms/step - loss: 0.3186 - accuracy: 0.8697\n",
      "Epoch 40/50\n",
      "60/60 [==============================] - 0s 5ms/step - loss: 0.3193 - accuracy: 0.8692\n",
      "Epoch 41/50\n",
      "60/60 [==============================] - 0s 5ms/step - loss: 0.3184 - accuracy: 0.8725\n",
      "Epoch 42/50\n",
      "60/60 [==============================] - 0s 5ms/step - loss: 0.3175 - accuracy: 0.8728\n",
      "Epoch 43/50\n",
      "60/60 [==============================] - 0s 5ms/step - loss: 0.3180 - accuracy: 0.8700\n",
      "Epoch 44/50\n",
      "60/60 [==============================] - 0s 6ms/step - loss: 0.3176 - accuracy: 0.8705\n",
      "Epoch 45/50\n",
      "60/60 [==============================] - 0s 6ms/step - loss: 0.3172 - accuracy: 0.8713\n",
      "Epoch 46/50\n",
      "60/60 [==============================] - 0s 6ms/step - loss: 0.3173 - accuracy: 0.8715\n",
      "Epoch 47/50\n",
      "60/60 [==============================] - 0s 5ms/step - loss: 0.3168 - accuracy: 0.8723\n",
      "Epoch 48/50\n",
      "60/60 [==============================] - 0s 6ms/step - loss: 0.3168 - accuracy: 0.8703\n",
      "Epoch 49/50\n",
      "60/60 [==============================] - 0s 6ms/step - loss: 0.3162 - accuracy: 0.8695\n",
      "Epoch 50/50\n",
      "60/60 [==============================] - 0s 6ms/step - loss: 0.3158 - accuracy: 0.8713\n"
     ]
    },
    {
     "data": {
      "text/plain": [
       "<keras.callbacks.History at 0x24ea47ea220>"
      ]
     },
     "execution_count": 77,
     "metadata": {},
     "output_type": "execute_result"
    }
   ],
   "source": [
    "model.fit(x=X_train, y=y_train, batch_size=100\n",
    "          , epochs=50, verbose=1)"
   ]
  },
  {
   "cell_type": "code",
   "execution_count": null,
   "id": "3bfc7106-0075-4239-9e42-648456cff229",
   "metadata": {},
   "outputs": [],
   "source": []
  }
 ],
 "metadata": {
  "kernelspec": {
   "display_name": "Python 3 (ipykernel)",
   "language": "python",
   "name": "python3"
  },
  "language_info": {
   "codemirror_mode": {
    "name": "ipython",
    "version": 3
   },
   "file_extension": ".py",
   "mimetype": "text/x-python",
   "name": "python",
   "nbconvert_exporter": "python",
   "pygments_lexer": "ipython3",
   "version": "3.9.7"
  }
 },
 "nbformat": 4,
 "nbformat_minor": 5
}
